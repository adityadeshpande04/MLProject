{
 "cells": [
  {
   "cell_type": "code",
   "execution_count": 1,
   "metadata": {},
   "outputs": [
    {
     "name": "stdout",
     "output_type": "stream",
     "text": [
      "[[516377  48910]\n",
      " [  2145     66]]\n",
      "              precision    recall  f1-score   support\n",
      "\n",
      "           0       1.00      0.91      0.95    565287\n",
      "           1       0.00      0.03      0.00      2211\n",
      "\n",
      "    accuracy                           0.91    567498\n",
      "   macro avg       0.50      0.47      0.48    567498\n",
      "weighted avg       0.99      0.91      0.95    567498\n",
      "\n"
     ]
    }
   ],
   "source": [
    "\n",
    "import numpy as np\n",
    "import pandas as pd\n",
    "from sklearn.neighbors import LocalOutlierFactor\n",
    "from sklearn.metrics import classification_report, confusion_matrix\n",
    "data = pd.read_csv('http.csv')\n",
    "majority_class = data[data['attack'] == 0]  \n",
    "minority_class = data[data['attack'] == 1]  \n",
    "X_train = majority_class.drop('attack', axis=1)\n",
    "lof = LocalOutlierFactor(n_neighbors=20, contamination='auto')\n",
    "lof.fit(X_train)\n",
    "X_test = data.drop('attack', axis=1)\n",
    "y_pred = lof.fit_predict(X_test)\n",
    "y_pred[y_pred == 1] = 0  \n",
    "y_pred[y_pred == -1] = 1  \n",
    "print(confusion_matrix(data['attack'], y_pred))\n",
    "print(classification_report(data['attack'], y_pred))"
   ]
  },
  {
   "cell_type": "code",
   "execution_count": null,
   "metadata": {},
   "outputs": [],
   "source": []
  }
 ],
 "metadata": {
  "kernelspec": {
   "display_name": "base",
   "language": "python",
   "name": "python3"
  },
  "language_info": {
   "codemirror_mode": {
    "name": "ipython",
    "version": 3
   },
   "file_extension": ".py",
   "mimetype": "text/x-python",
   "name": "python",
   "nbconvert_exporter": "python",
   "pygments_lexer": "ipython3",
   "version": "3.10.2"
  }
 },
 "nbformat": 4,
 "nbformat_minor": 2
}
