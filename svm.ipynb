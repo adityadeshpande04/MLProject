{
 "cells": [
  {
   "cell_type": "code",
   "execution_count": 1,
   "metadata": {},
   "outputs": [],
   "source": [
    "# Import necessary libraries\n",
    "import numpy as np\n",
    "import pandas as pd\n",
    "from sklearn.model_selection import train_test_split\n",
    "from sklearn.preprocessing import StandardScaler\n",
    "from sklearn.svm import OneClassSVM\n",
    "from sklearn.metrics import confusion_matrix, classification_report\n",
    "import warnings\n"
   ]
  },
  {
   "cell_type": "code",
   "execution_count": 2,
   "metadata": {},
   "outputs": [],
   "source": [
    "df = pd.read_csv('http.csv')\n",
    "df_majority=df[df['attack']==0]\n",
    "df_minority=df[df['attack']==1]\n",
    "df_majority_downsampled = df_majority.sample(n=50000, random_state=42)\n",
    "df_minority_downsampled = df_minority.sample(n=1000, random_state=42)\n",
    "model = OneClassSVM(kernel='rbf', nu=0.1) \n",
    "model.fit(df_majority_downsampled.drop('attack', axis=1)) \n",
    "predictions = model.predict(df.drop('attack', axis=1))  \n",
    "predictions[predictions == -1] = 1  \n",
    "predictions[predictions == 1] = 0  \n",
    "\n",
    "print(\"Confusion Matrix:\")\n",
    "print(confusion_matrix(df['attack'], predictions))\n",
    "print(\"\\nClassification Report:\")\n",
    "print(classification_report(df['attack'], predictions))"
   ]
  }
 ],
 "metadata": {
  "kernelspec": {
   "display_name": "base",
   "language": "python",
   "name": "python3"
  },
  "language_info": {
   "codemirror_mode": {
    "name": "ipython",
    "version": 3
   },
   "file_extension": ".py",
   "mimetype": "text/x-python",
   "name": "python",
   "nbconvert_exporter": "python",
   "pygments_lexer": "ipython3",
   "version": "3.10.2"
  }
 },
 "nbformat": 4,
 "nbformat_minor": 2
}
