{
 "cells": [
  {
   "cell_type": "code",
   "execution_count": 2,
   "metadata": {},
   "outputs": [],
   "source": [
    "import numpy as np\n",
    "import pandas as pd\n",
    "from sklearn.model_selection import train_test_split\n",
    "from sklearn.neighbors import NearestNeighbors\n",
    "from sklearn.metrics import classification_report, confusion_matrix"
   ]
  },
  {
   "cell_type": "code",
   "execution_count": 3,
   "metadata": {},
   "outputs": [
    {
     "name": "stdout",
     "output_type": "stream",
     "text": [
      "0.008081843081422064\n",
      "              precision    recall  f1-score   support\n",
      "\n",
      "           0       1.00      1.00      1.00    565287\n",
      "           1       0.89      1.00      0.94      2211\n",
      "\n",
      "    accuracy                           1.00    567498\n",
      "   macro avg       0.94      1.00      0.97    567498\n",
      "weighted avg       1.00      1.00      1.00    567498\n",
      "\n"
     ]
    }
   ],
   "source": [
    "data=pd.read_csv('http.csv')\n",
    "df=pd.DataFrame(data)\n",
    "df['attack'].value_counts()\n",
    "df_majority = df[df.attack==0]\n",
    "df_minority = df[df.attack==1]\n",
    "X_train = df_majority.drop('attack', axis=1)\n",
    "y_train = np.zeros(len(X_train)) \n",
    "k = 5\n",
    "knn = NearestNeighbors(n_neighbors=k)\n",
    "knn.fit(X_train)\n",
    "X_test = df.drop('attack', axis=1)\n",
    "y_test = df['attack']\n",
    "distances, _ = knn.kneighbors(X_test)\n",
    "anomaly_score = distances.mean(axis=1)\n",
    "print(anomaly_score.mean())\n",
    "y_pred = [1 if x > 0.2 else 0 for x in anomaly_score]\n",
    "\n",
    "print(classification_report(y_test, y_pred))"
   ]
  }
 ],
 "metadata": {
  "kernelspec": {
   "display_name": "base",
   "language": "python",
   "name": "python3"
  },
  "language_info": {
   "codemirror_mode": {
    "name": "ipython",
    "version": 3
   },
   "file_extension": ".py",
   "mimetype": "text/x-python",
   "name": "python",
   "nbconvert_exporter": "python",
   "pygments_lexer": "ipython3",
   "version": "3.10.2"
  }
 },
 "nbformat": 4,
 "nbformat_minor": 2
}
