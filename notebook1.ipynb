{
 "cells": [
  {
   "cell_type": "code",
   "execution_count": 1,
   "metadata": {},
   "outputs": [],
   "source": [
    "import pandas as pd\n",
    "import numpy as np\n",
    "from sklearn.preprocessing import StandardScaler\n",
    "from sklearn.metrics import confusion_matrix, accuracy_score\n",
    "from sklearn.model_selection import train_test_split\n",
    "from sklearn.preprocessing import MinMaxScaler"
   ]
  },
  {
   "cell_type": "code",
   "execution_count": 2,
   "metadata": {},
   "outputs": [
    {
     "name": "stdout",
     "output_type": "stream",
     "text": [
      "4998\n",
      "2079\n",
      "2919\n"
     ]
    }
   ],
   "source": [
    "dataset=\"ecg.csv\"\n",
    "df = pd.read_csv(dataset)\n",
    "\n",
    "n= df.shape[0]\n",
    "class_1= len(df[df['Label']==1])\n",
    "class_0= len(df[df['Label']==0])\n",
    "\n",
    "print(n)\n",
    "print(class_0)\n",
    "print(class_1)\n"
   ]
  },
  {
   "cell_type": "code",
   "execution_count": 3,
   "metadata": {},
   "outputs": [],
   "source": [
    "y = df['Label']\n",
    "X = df.drop('Label', axis=1)\n",
    "\n",
    "\n",
    "scaler = MinMaxScaler()\n",
    "scaled_df=scaler.fit_transform(df)\n",
    "\n",
    "X_train, X_test, y_train, y_test = train_test_split(scaled_df, y, test_size=0.3, random_state=42)\n",
    "\n"
   ]
  },
  {
   "cell_type": "code",
   "execution_count": 4,
   "metadata": {},
   "outputs": [
    {
     "name": "stdout",
     "output_type": "stream",
     "text": [
      "Accuracy: 0.7153333333333334\n",
      "Confusion Matrix:\n",
      "[[622   0]\n",
      " [427 451]]\n"
     ]
    }
   ],
   "source": [
    "#One Class SVM\n",
    "\n",
    "from sklearn import svm\n",
    "\n",
    "model = svm.OneClassSVM(kernel='linear', gamma=0.1)\n",
    "normal_data = X_train[y_train == 1]\n",
    "model.fit(normal_data)\n",
    "\n",
    "y_pred = model.predict(X_test)\n",
    "\n",
    "y_pred[y_pred == 1] = 1 \n",
    "y_pred[y_pred == -1] = 0  \n",
    "\n",
    "accuracy = accuracy_score(y_test, y_pred)\n",
    "print(\"Accuracy:\", accuracy)\n",
    "\n",
    "conf_matrix = confusion_matrix(y_test, y_pred)\n",
    "print(\"Confusion Matrix:\")\n",
    "print(conf_matrix)\n",
    "\n",
    "# print(y_test)\n",
    "# print(y_pred)"
   ]
  },
  {
   "cell_type": "code",
   "execution_count": 176,
   "metadata": {},
   "outputs": [
    {
     "name": "stdout",
     "output_type": "stream",
     "text": [
      "Accuracy: 0.5766666666666667\n",
      "Confusion Matrix:\n",
      "[[ 56 566]\n",
      " [ 69 809]]\n"
     ]
    }
   ],
   "source": [
    "# KNN\n",
    "\n",
    "from sklearn.neighbors import NearestNeighbors\n",
    "\n",
    "k=5\n",
    "threshold=0.6\n",
    "\n",
    "knn_model=NearestNeighbors(n_neighbors=k)\n",
    "knn_model.fit(X_train,y_train)\n",
    "\n",
    "distances, _ = knn_model.kneighbors(X_test)\n",
    "\n",
    "kth_distances = distances[:, -1]\n",
    "\n",
    "y_pred=[]\n",
    "\n",
    "for distance in kth_distances:\n",
    "    if distance > threshold:\n",
    "        y_pred.append(0)\n",
    "    else:\n",
    "        y_pred.append(1)\n",
    "\n",
    "accuracy = accuracy_score(y_test, y_pred)\n",
    "print(\"Accuracy:\", accuracy)\n",
    "\n",
    "conf_matrix = confusion_matrix(y_test, y_pred)\n",
    "print(\"Confusion Matrix:\")\n",
    "print(conf_matrix)\n"
   ]
  },
  {
   "cell_type": "code",
   "execution_count": 5,
   "metadata": {},
   "outputs": [
    {
     "name": "stdout",
     "output_type": "stream",
     "text": [
      "Accuracy: 0.624\n",
      "Confusion Matrix:\n",
      "[[343 279]\n",
      " [285 593]]\n"
     ]
    }
   ],
   "source": [
    "#Isolation Forests\n",
    "\n",
    "from sklearn.ensemble import IsolationForest\n",
    "\n",
    "c=float(class_0) / n\n",
    "isolation_forest_model = IsolationForest(contamination= c , random_state=42)\n",
    "\n",
    "isolation_forest_model.fit(X_train)\n",
    "\n",
    "y_pred = isolation_forest_model.predict(X_test)\n",
    "\n",
    "# Convert predictions to binary labels: 1 for inliers (normal), 0 for outliers (anomalies)\n",
    "y_pred_binary = [1 if x == 1 else 0 for x in y_pred]\n",
    "\n",
    "# Compute accuracy\n",
    "accuracy = accuracy_score(y_test, y_pred_binary)\n",
    "print(\"Accuracy:\", accuracy)\n",
    "\n",
    "# Compute confusion matrix\n",
    "conf_matrix = confusion_matrix(y_test, y_pred_binary)\n",
    "print(\"Confusion Matrix:\")\n",
    "print(conf_matrix)\n"
   ]
  }
 ],
 "metadata": {
  "kernelspec": {
   "display_name": ".venv",
   "language": "python",
   "name": "python3"
  },
  "language_info": {
   "codemirror_mode": {
    "name": "ipython",
    "version": 3
   },
   "file_extension": ".py",
   "mimetype": "text/x-python",
   "name": "python",
   "nbconvert_exporter": "python",
   "pygments_lexer": "ipython3",
   "version": "3.10.2"
  }
 },
 "nbformat": 4,
 "nbformat_minor": 2
}
