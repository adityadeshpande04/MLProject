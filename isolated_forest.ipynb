{
 "cells": [
  {
   "cell_type": "code",
   "execution_count": 1,
   "metadata": {},
   "outputs": [],
   "source": [
    "# Import necessary libraries\n",
    "import numpy as np\n",
    "import pandas as pd\n",
    "from sklearn.ensemble import IsolationForest\n",
    "from sklearn.metrics import confusion_matrix, classification_report\n"
   ]
  },
  {
   "cell_type": "code",
   "execution_count": 2,
   "metadata": {},
   "outputs": [
    {
     "name": "stdout",
     "output_type": "stream",
     "text": [
      "              precision    recall  f1-score   support\n",
      "\n",
      "           0       1.00      0.99      0.99    565287\n",
      "           1       0.27      0.98      0.42      2211\n",
      "\n",
      "    accuracy                           0.99    567498\n",
      "   macro avg       0.63      0.98      0.71    567498\n",
      "weighted avg       1.00      0.99      0.99    567498\n",
      "\n"
     ]
    }
   ],
   "source": [
    "df=pd.read_csv('http.csv')\n",
    "df_majority = df[df['attack'] == 0]\n",
    "model = IsolationForest(contamination=0.0104, random_state=42) \n",
    "X_train = df_majority.drop(['attack'], axis=1)\n",
    "y_train = df_majority['attack']\n",
    "model.fit(X_train)\n",
    "y_pred = model.predict(df.drop(['attack'], axis=1))\n",
    "y_pred = [1 if x == -1 else 0 for x in y_pred]\n",
    "print(classification_report(df['attack'], y_pred))"
   ]
  }
 ],
 "metadata": {
  "kernelspec": {
   "display_name": "base",
   "language": "python",
   "name": "python3"
  },
  "language_info": {
   "codemirror_mode": {
    "name": "ipython",
    "version": 3
   },
   "file_extension": ".py",
   "mimetype": "text/x-python",
   "name": "python",
   "nbconvert_exporter": "python",
   "pygments_lexer": "ipython3",
   "version": "3.10.2"
  }
 },
 "nbformat": 4,
 "nbformat_minor": 2
}
